{
 "cells": [
  {
   "cell_type": "code",
   "execution_count": 1,
   "metadata": {},
   "outputs": [
    {
     "name": "stdout",
     "output_type": "stream",
     "text": [
      "Collecting qcircuits\n",
      "  Downloading QCircuits-0.6.0.tar.gz (25 kB)\n",
      "  Preparing metadata (setup.py) ... \u001b[?25ldone\n",
      "\u001b[?25hRequirement already satisfied: numpy>=1.11.3 in /opt/homebrew/lib/python3.11/site-packages (from qcircuits) (1.23.5)\n",
      "Building wheels for collected packages: qcircuits\n",
      "  Building wheel for qcircuits (setup.py) ... \u001b[?25ldone\n",
      "\u001b[?25h  Created wheel for qcircuits: filename=QCircuits-0.6.0-py3-none-any.whl size=17263 sha256=6f8ba8e4fbb2e38d846f6e29d9780f2b86469481ef089235220c23d41dc45729\n",
      "  Stored in directory: /Users/adrianariton/Library/Caches/pip/wheels/9c/da/bc/f080b41e92bfbbd796b03c2f0962ec3ab488d8a0b122a2a4e2\n",
      "Successfully built qcircuits\n",
      "Installing collected packages: qcircuits\n",
      "Successfully installed qcircuits-0.6.0\n",
      "\n",
      "\u001b[1m[\u001b[0m\u001b[34;49mnotice\u001b[0m\u001b[1;39;49m]\u001b[0m\u001b[39;49m A new release of pip is available: \u001b[0m\u001b[31;49m23.0.1\u001b[0m\u001b[39;49m -> \u001b[0m\u001b[32;49m23.1.2\u001b[0m\n",
      "\u001b[1m[\u001b[0m\u001b[34;49mnotice\u001b[0m\u001b[1;39;49m]\u001b[0m\u001b[39;49m To update, run: \u001b[0m\u001b[32;49mpython3.11 -m pip install --upgrade pip\u001b[0m\n"
     ]
    }
   ],
   "source": [
    "!pip3 install qcircuits"
   ]
  },
  {
   "attachments": {},
   "cell_type": "markdown",
   "metadata": {},
   "source": [
    "If the instructions presented in the README.md file were correctly followed, QCircuits should be correctly installed, and we can begin using the library!"
   ]
  },
  {
   "cell_type": "code",
   "execution_count": 2,
   "metadata": {},
   "outputs": [],
   "source": [
    "import qcircuits as qc"
   ]
  },
  {
   "attachments": {},
   "cell_type": "markdown",
   "metadata": {},
   "source": [
    "Let's see how writing code with **qcircuits** actially looks like!\n",
    "\n",
    "This function is the well known quantum teleportation algorithm!"
   ]
  },
  {
   "cell_type": "code",
   "execution_count": 3,
   "metadata": {},
   "outputs": [],
   "source": [
    "def quantum_teleportation(alice_state):\n",
    "    # Get operators we will need\n",
    "    CNOT = qc.CNOT()\n",
    "    H = qc.Hadamard()\n",
    "    X = qc.PauliX()\n",
    "    Z = qc.PauliZ()\n",
    "\n",
    "    # The prepared, shared Bell state\n",
    "    bell = qc.bell_state(0, 0)\n",
    "    \n",
    "    # The whole state vector\n",
    "    state = alice_state * bell\n",
    "\n",
    "    # Apply CNOT and Hadamard gate\n",
    "    state = CNOT(state, qubit_indices=[0, 1])\n",
    "    state = H(state, qubit_indices=[0])\n",
    "\n",
    "    # Measure the first two bits\n",
    "    # The only uncollapsed part of the state vector is Bob's\n",
    "    M1, M2 = state.measure(qubit_indices=[0, 1], remove=True)\n",
    "\n",
    "    # Apply X and/or Z gates to third qubit depending on measurements\n",
    "    if M2:\n",
    "        state = X(state)\n",
    "    if M1:\n",
    "        state = Z(state)\n",
    "\n",
    "    return state"
   ]
  },
  {
   "attachments": {},
   "cell_type": "markdown",
   "metadata": {},
   "source": [
    "![qtelimg][def]\n",
    "\n",
    "[def]: teleport.png"
   ]
  },
  {
   "attachments": {},
   "cell_type": "markdown",
   "metadata": {},
   "source": [
    "As you can see, writing code with QCircuits is fairly easy and elegant and therefore, beginer friendly!\n",
    "\n",
    "Let's take the function step by step!"
   ]
  },
  {
   "attachments": {},
   "cell_type": "markdown",
   "metadata": {},
   "source": [
    "## Let's try to understand a little how qcircuit simulates quantum circuits\n"
   ]
  },
  {
   "attachments": {},
   "cell_type": "markdown",
   "metadata": {},
   "source": [
    "1. First of all we define our operators:\n",
    "\n",
    "    ```python\n",
    "        CNOT = qc.CNOT()\n",
    "        H = qc.Hadamard()\n",
    "        X = qc.PauliX()\n",
    "        Z = qc.PauliZ()\n",
    "    ```\n",
    "2. We initialize our needed state to the bell state:\n",
    "\n",
    "    ![bell state](https://upload.wikimedia.org/wikipedia/commons/f/fc/The_Hadamard-CNOT_transform_on_the_zero-state.png)\n",
    "\n",
    "    ```python\n",
    "        bell = qc.bell_state(0, 0)\n",
    "    ```\n",
    "3. We multiply (tensorial multiplication) the alice_state and out newly generated bell pair\n",
    "\n",
    "    ```python\n",
    "        state = alice_state * bell\n",
    "    ```\n",
    "    This is mandatory, because qcircuits needs to keep track of all the qubits in a single vector type.\n",
    "    The qubits positions will be determined as such:\n",
    "    $$| \\psi \\rangle = q_0$$\n",
    "    The EPR pair:$$| \\beta_{00} \\rangle = q_{[1,2]}$$\n",
    "\n",
    "4. Afterwards, the inverse of the entanglement is performed\n",
    "\n",
    "    ```python\n",
    "        state = CNOT(state, qubit_indices=[0, 1])\n",
    "        state = H(state, qubit_indices=[0])\n",
    "    ```\n",
    "\n",
    "5. And then the state is measured\n",
    "\n",
    "    ```python\n",
    "        M1, M2 = state.measure(qubit_indices=[0, 1], remove=True)\n",
    "\n",
    "        # Apply X and/or Z gates to third qubit depending on measurements\n",
    "        if M2:\n",
    "            state = X(state)\n",
    "        if M1:\n",
    "            state = Z(state)\n",
    "    ```"
   ]
  },
  {
   "attachments": {},
   "cell_type": "markdown",
   "metadata": {},
   "source": [
    "Let's run it see how it does!"
   ]
  },
  {
   "cell_type": "code",
   "execution_count": 4,
   "metadata": {},
   "outputs": [
    {
     "name": "stdout",
     "output_type": "stream",
     "text": [
      "Original state: 1-qubit state. Tensor:\n",
      "[0.71710381+0.14536414j 0.52134608+0.43912375j]\n",
      "\n",
      "Teleported state: 1-qubit state. Tensor:\n",
      "[0.71710381+0.14536414j 0.52134608+0.43912375j]\n"
     ]
    }
   ],
   "source": [
    "if __name__ == '__main__':\n",
    "    # Alice's original state to be teleported to Bob\n",
    "    alice = qc.qubit(theta=1.5, phi=0.5, global_phase=0.2)\n",
    "\n",
    "    # Bob's state after quantum teleportation\n",
    "    bob = quantum_teleportation(alice)\n",
    "\n",
    "    print('Original state:', alice)\n",
    "    print('\\nTeleported state:', bob)"
   ]
  },
  {
   "attachments": {},
   "cell_type": "markdown",
   "metadata": {},
   "source": [
    "As you can see, the teleportation function produced the exact same output!\n",
    "\n",
    "\n",
    "\n",
    "> But why doesn't Alice's state get destroyed?? Seems like the simulation is wrong somehow...\n",
    "\n",
    "I hear you say...\n",
    "\n",
    "\n",
    "\n",
    "A: Well turns out that qcircuits can take snapshots of states and keep them as a copy, and the `alice` parameter is not interpreted as a refference and is therefore copied!"
   ]
  }
 ],
 "metadata": {
  "kernelspec": {
   "display_name": "Python 3",
   "language": "python",
   "name": "python3"
  },
  "language_info": {
   "codemirror_mode": {
    "name": "ipython",
    "version": 3
   },
   "file_extension": ".py",
   "mimetype": "text/x-python",
   "name": "python",
   "nbconvert_exporter": "python",
   "pygments_lexer": "ipython3",
   "version": "3.11.3"
  },
  "orig_nbformat": 4
 },
 "nbformat": 4,
 "nbformat_minor": 2
}
