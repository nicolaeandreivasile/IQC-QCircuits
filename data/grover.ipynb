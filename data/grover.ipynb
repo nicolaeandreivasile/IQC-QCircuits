{
 "cells": [
  {
   "cell_type": "code",
   "execution_count": 8,
   "metadata": {},
   "outputs": [],
   "source": [
    "import qcircuits as qc\n",
    "import numpy as np\n",
    "import random"
   ]
  },
  {
   "attachments": {},
   "cell_type": "markdown",
   "metadata": {},
   "source": [
    "# Grover's algorithm\n",
    "\n",
    "- Grover's algorithm, also known as the **quantum search algorithm**\n",
    "- a `quantum algorithm` for unstructured search that finds with high probability ($ > 1/2$) the unique input to a `black box` function that produces a particular output value\n",
    "- uses just \n",
    "$O({\\sqrt  {N}})$ evaluations of the function, where \n",
    "$N$ is the size of the function's domain\n",
    "- It was devised by *Lov Grover* in 1996.\n",
    "\n",
    "\n",
    "## The blackbox function:\n",
    "- ![blackbox](https://wikimedia.org/api/rest_v1/media/math/render/svg/1cf1bdc1be997a808ce588691d32fd183ffc696c)\n",
    "- additionally assume that only one index satisfies $f(x) = 1$, and we call this index $ω$\n",
    "- our goal is to identify $ω$\n",
    "\n",
    "## How do we do that?\n",
    "### `Step 1.` Encoding $f$ into quantum machinery\n",
    "We can represent $f$ as a subroutine (sometimes called an **oracle**) in the form of a unitary operator $U_ω$ that acts as follows:\n",
    "$${\\displaystyle {\\begin{cases}U_{\\omega }|x\\rangle =-|x\\rangle &{\\text{for }}x=\\omega {\\text{, that is, }}f(x)=1,\\\\U_{\\omega }|x\\rangle =|x\\rangle &{\\text{for }}x\\neq \\omega {\\text{, that is, }}f(x)=0.\\end{cases}}}$$\n",
    "Or, in shorter notation, ${\\displaystyle U_{\\omega }|x\\rangle =(-1)^{f(x)}|x\\rangle .}$\n",
    "\n",
    "`Q3:` What could this operator do (geometrically) to an orthonormal each base-vector base containing $\\omega$. (Answer Q1 and Q2 from below first)\n",
    "\n",
    "`Q4:` What does the operator $U_\\omega$ look like?\n",
    "\n",
    "### `Step 2.` Get Computin'\n",
    "\n",
    "![grover_circ](../assets/images/grover_circ.png)\n",
    "\n",
    "## The Algorithm:\n",
    "- First of all initialize al states in a `equal probability state`, with `H` gates aplied to every input qubit\n",
    "$${\\displaystyle |\\psi_1\\rangle ={\\frac {1}{\\sqrt {N}}}\\sum _{x=0}^{N-1}|x\\rangle .}$$\n",
    "\n",
    "```python\n",
    "\n",
    "```\n",
    "\n",
    "- Perform $r(N)$ \"Grover iterations\", where ${\\displaystyle r(N) = {\\Big \\lceil }{\\frac {\\pi }{4}}{\\sqrt {N}}{\\Big \\rceil }}.$\n",
    "- Define a Grover iteration as such:\n",
    "    - Apply the operator $U_{\\omega }$\n",
    "    - Apply the Grover diffusion operator: $U_{\\psi}=2\\left|\\psi\\right\\rangle \\left\\langle \\psi\\right|-I$ \n",
    "    \n",
    "`Q1:` Why does the Grover diffusion operator look familiar? What does it do?\n",
    "\n",
    "`Q2:` What are it's eigenvalues and eigenvectors?\n",
    "\n",
    "`Q2.1:` What does one iteration do - geometrically? What does the matrix of one iteration look like?\n",
    "\n",
    "---\n",
    "\n",
    "# A little bit of intuitive proof\n",
    "\n",
    "- One can view the multidimensional Hilbert space, clearer by simply reducing it to two dimensions: $\\omega \\otimes \\omega_{\\perp}$.\n",
    "- Given an initial state $|\\psi\\rangle$ one can represent it in this basis: $\\alpha  |\\omega \\rangle + \\beta  |\\omega_{\\perp}\\rangle$\n",
    "\n",
    "- $U_{\\omega}$ reflects the state about $ |\\omega_{\\perp}\\rangle $\n",
    "- $U_s = 2\\left|s\\right\\rangle \\left\\langle s\\right|-I$ = $-{Hausholder(s)}$ reflects the state $|\\psi\\rangle$ about the chosen vector $|s\\rangle$\n",
    "\n",
    "![grover_geo](../assets/images/grover_geo.png)\n",
    "\n",
    "- ☐ explain image notation missmatch\n",
    "\n",
    "`Q2.5:` Check that this is the value of theta\n",
    "$$\\sin(\\theta/2) = \\frac{1}{\\sqrt{N}} $$\n",
    "\n",
    "As you can see, after only one iteration, the resulting vector gets closer and closer to $\\omega$ which is the wanted output!"
   ]
  },
  {
   "attachments": {},
   "cell_type": "markdown",
   "metadata": {},
   "source": [
    "How do we find the angle?\n",
    "\n",
    "Buckle up, cause you'll find out! But first of all..."
   ]
  },
  {
   "attachments": {},
   "cell_type": "markdown",
   "metadata": {},
   "source": [
    "# Let's $|CODE\\rangle$\n",
    "\n",
    "First of all let's create our oracle: `a 10 qubit function`\n",
    "$$f : \\{0, 1, 2, ..., 2^{10}-1\\} \\rightarrow \\{0, 1\\}$$"
   ]
  },
  {
   "cell_type": "code",
   "execution_count": 9,
   "metadata": {},
   "outputs": [],
   "source": [
    "def construct_problem(d=10):\n",
    "    num_inputs = 2**d\n",
    "    answers = np.zeros(num_inputs, dtype=np.int32)\n",
    "    # For random position, use\n",
    "    # answers[np.random.randint(0, num_inputs)] = 1\n",
    "    \n",
    "    # Or use for a chosen position:\n",
    "    answers[12] = 1\n",
    "\n",
    "    def f(*bits):\n",
    "        index = sum(v * 2**i for i, v in enumerate(bits))\n",
    "\n",
    "        return answers[index]\n",
    "\n",
    "    return f\n"
   ]
  },
  {
   "attachments": {},
   "cell_type": "markdown",
   "metadata": {},
   "source": [
    "This returns a function that will output $1$ exactly for one single integer value between $0$ and $1023$. That is our $\\omega$, that is our Nemo!"
   ]
  },
  {
   "attachments": {},
   "cell_type": "markdown",
   "metadata": {},
   "source": [
    "For the purpose of our testing, we will choose $12$ as our $\\omega$, and set `    answers[12] = 1\n",
    "`"
   ]
  },
  {
   "attachments": {},
   "cell_type": "markdown",
   "metadata": {},
   "source": [
    "This will be our oracle!\n",
    "\n",
    "## Now let's find Nemo!\n",
    "\n",
    "![nemo](https://static.wikia.nocookie.net/pixar/images/a/aa/Nemo-FN.png/revision/latest?cb=20160710221104)\n",
    "\n",
    "`Q5`: What was the first step of the algorithm?\n",
    "\n",
    "`Q6`: Why does almost every algorithm in quantum computing do this? Hint: Multithreading!\n",
    "\n",
    "`Q7`: What component of the vector does $|U_{\\omega}\\rangle$ modify?\n"
   ]
  },
  {
   "cell_type": "code",
   "execution_count": 10,
   "metadata": {},
   "outputs": [],
   "source": [
    "def grover_algorithm(d, f):\n",
    "    # The operators we will need\n",
    "    Oracle = qc.U_f(f, d=d+1)\n",
    "    H_d = qc.Hadamard(d)\n",
    "    H = qc.Hadamard()\n",
    "    N = 2**d\n",
    "    zero_projector = np.zeros((N, N))\n",
    "    zero_projector[0, 0] = 1\n",
    "    Inversion = H_d((2 * qc.Operator.from_matrix(zero_projector) - qc.Identity(d))(H_d))\n",
    "    Grover = Inversion(Oracle, qubit_indices=range(d))\n",
    "\n",
    "    # Initial state\n",
    "    state = qc.zeros(d) * qc.ones(1)\n",
    "    state = (H_d * H)(state)\n",
    "\n",
    "    # Number of Grover iterations: r(N)\n",
    "    angle_to_rotate = np.arccos(np.sqrt(1 / N))\n",
    "    rotation_angle = 2 * np.arcsin(np.sqrt(1 / N))\n",
    "    iterations = int(round(angle_to_rotate / rotation_angle))\n",
    "    for i in range(iterations):\n",
    "        state = Grover(state)\n",
    "\n",
    "    measurements = state.measure(qubit_indices=range(d))\n",
    "    return measurements"
   ]
  },
  {
   "attachments": {},
   "cell_type": "markdown",
   "metadata": {},
   "source": [
    "- `Oracle` is our oracle function ($1$ only if $x=\\omega=12$)\n",
    "- `Inversion` is the -Hausholder Reflector about $|\\psi\\rangle$, where $\\psi$ is the current state.\n",
    "- `Grover` = ${U_{\\omega}} \\times {Inversion}$\n",
    "\n",
    "\n",
    "![grover_circ](../assets/images/grover_circ.png)\n"
   ]
  },
  {
   "attachments": {},
   "cell_type": "markdown",
   "metadata": {},
   "source": [
    "As you can see the function also calculates $r(N)$ the number of iterations which we've blindly approximated before as $\\pi\\sqrt{N}/4 $\n",
    "\n",
    "The number of iterations cand be more accurately calculated using the geometrical interpretation we described before!\n",
    "\n",
    "## How often does it actually find Nemo?\n",
    "The probability is $$p_N = {\\displaystyle \\sin ^{2}\\left({\\Big (}r(N)+{\\frac {1}{2}}{\\Big )}\\theta \\right),}$$\n",
    "The earliest time that we get a near-optimal measurement is therefore \n",
    "$$r(N)\\approx \\pi {\\sqrt  {N}}/4$$"
   ]
  },
  {
   "attachments": {},
   "cell_type": "markdown",
   "metadata": {},
   "source": [
    "### Let's run it!"
   ]
  },
  {
   "cell_type": "code",
   "execution_count": 11,
   "metadata": {},
   "outputs": [
    {
     "name": "stdout",
     "output_type": "stream",
     "text": [
      "Measurement: (0, 0, 1, 1, 0, 0, 0, 0, 0, 0)\n",
      "Evaluate f at measurement: 1\n"
     ]
    }
   ],
   "source": [
    "if __name__ == '__main__':\n",
    "    d = 10\n",
    "\n",
    "    f = construct_problem(d)\n",
    "    bits = grover_algorithm(d, f)\n",
    "\n",
    "    print('Measurement: {}'.format(bits))\n",
    "    print('Evaluate f at measurement: {}'.format(f(*bits)))"
   ]
  },
  {
   "attachments": {},
   "cell_type": "markdown",
   "metadata": {},
   "source": [
    "As you can see the output is exactly 12 written in base 2!\n",
    "\n",
    "---\n",
    "\n",
    "# Thought experiment\n",
    "\n",
    "## Think big! \n",
    "\n",
    "`Q8`: Do you think Grover's algorithm could actually help with harder search methods? Hint: Think about the oracle, how can you modify it to have different results?\n",
    "\n",
    "`Q9`: What type of matrix is the Grover operator?\n",
    "\n",
    "# Homework\n",
    "\n",
    "## Follow your curiosity! Discover the future!\n",
    "\n",
    "During this class you've learned about **Quantum Phase Estimation**, and now you cand find the answer to any problem faster than anyone else using **Grover's** algorithm!\n",
    "\n",
    "- Seach the web an algorithm that combines the two. \n",
    "\n",
    "- What could it do? What does it find?\n",
    "\n",
    "```python\n",
    "    nemo = \"Quantum Counting Algorithm\"\n",
    "    find(nemo)\n",
    "```\n",
    "\n",
    "- Find the formula which will be asked at the Lab!\n",
    "\n",
    "\n",
    "`A9`: ${\\displaystyle G={\\begin{bmatrix}\\cos \\theta &-\\sin \\theta \\\\\\sin \\theta &\\cos \\theta \\end{bmatrix}}}$\n",
    "`A10`: $$\\sin(\\theta/2) = \\frac{\\sqrt{M}}{\\sqrt{N}} $$, $M = $ Number of sols"
   ]
  }
 ],
 "metadata": {
  "kernelspec": {
   "display_name": "Python 3",
   "language": "python",
   "name": "python3"
  },
  "language_info": {
   "codemirror_mode": {
    "name": "ipython",
    "version": 3
   },
   "file_extension": ".py",
   "mimetype": "text/x-python",
   "name": "python",
   "nbconvert_exporter": "python",
   "pygments_lexer": "ipython3",
   "version": "3.11.3"
  },
  "orig_nbformat": 4
 },
 "nbformat": 4,
 "nbformat_minor": 2
}
