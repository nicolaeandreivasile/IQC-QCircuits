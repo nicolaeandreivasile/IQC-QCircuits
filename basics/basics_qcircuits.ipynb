{
 "cells": [
  {
   "attachments": {},
   "cell_type": "markdown",
   "metadata": {},
   "source": [
    "## Basics of QCircuits\n",
    "After installation of QCircuits, we can start coding! QCircuits will be used as a module in Python 3 and we can use it as you see below:"
   ]
  },
  {
   "cell_type": "code",
   "execution_count": 15,
   "metadata": {},
   "outputs": [],
   "source": [
    "import qcircuits as qc"
   ]
  },
  {
   "attachments": {},
   "cell_type": "markdown",
   "metadata": {},
   "source": [
    "We want to point it out that QCircuits is perfect for newcomers to quantum computing, as its syntax is closer to Python that you would expect.\n",
    "Let's see how we can declare a qubit:"
   ]
  },
  {
   "cell_type": "code",
   "execution_count": 16,
   "metadata": {},
   "outputs": [
    {
     "name": "stdout",
     "output_type": "stream",
     "text": [
      "[1.+0.j 0.+0.j]\n"
     ]
    }
   ],
   "source": [
    "q1 = qc.qubit(alpha=1, beta=0)\n",
    "print(q1.amplitudes)"
   ]
  },
  {
   "attachments": {},
   "cell_type": "markdown",
   "metadata": {},
   "source": [
    "Or maybe you want to initialize multiple qubit at once.\n",
    "We can do that in QCircuits! The code below will do that for us and the method qc.amplitudes will show as the amplitude of the qubits after tensorial product operation"
   ]
  },
  {
   "cell_type": "code",
   "execution_count": 17,
   "metadata": {},
   "outputs": [
    {
     "name": "stdout",
     "output_type": "stream",
     "text": [
      "[[[0.+0.j 0.+0.j]\n",
      "  [0.+0.j 0.+0.j]]\n",
      "\n",
      " [[0.+0.j 0.+0.j]\n",
      "  [1.+0.j 0.+0.j]]]\n"
     ]
    }
   ],
   "source": [
    "q2 = qc.bitstring([1], [1], [0])\n",
    "print(q2.amplitudes)\n"
   ]
  },
  {
   "attachments": {},
   "cell_type": "markdown",
   "metadata": {},
   "source": [
    "Can you recall the formula for this state? If not, here it is: $\\vert q2\\rangle = {\\vert 110\\rangle}$"
   ]
  },
  {
   "attachments": {},
   "cell_type": "markdown",
   "metadata": {},
   "source": [
    "Next, we are going to apply some gates on our new generated qubits. The good part is that the most frequently used gates can be found in qcircuits object."
   ]
  },
  {
   "cell_type": "code",
   "execution_count": 18,
   "metadata": {},
   "outputs": [
    {
     "name": "stdout",
     "output_type": "stream",
     "text": [
      "[[[0.+0.j 0.+0.j]\n",
      "  [0.+0.j 0.+0.j]]\n",
      "\n",
      " [[1.+0.j 0.+0.j]\n",
      "  [0.+0.j 0.+0.j]]]\n"
     ]
    }
   ],
   "source": [
    "X_gate = qc.PauliX()\n",
    "q2 = X_gate(q2, qubit_indices=[1])\n",
    "print(q2.amplitudes)"
   ]
  },
  {
   "attachments": {},
   "cell_type": "markdown",
   "metadata": {},
   "source": [
    "As you can see, now the state of q2 is equal to $\\vert q2\\rangle = {\\vert 100\\rangle}$, based on the amplitudes showed"
   ]
  },
  {
   "attachments": {},
   "cell_type": "markdown",
   "metadata": {},
   "source": [
    "Now, let's see how we can generate the Bell states, starting from the computational basis and the applying a Hadamard gate followed by a CNOT.\n",
    "\n",
    "![Bell States Circuit](./photos_basics/bell_state.png)"
   ]
  },
  {
   "cell_type": "code",
   "execution_count": 19,
   "metadata": {},
   "outputs": [],
   "source": [
    "def bell_state(x, y):\n",
    "    H = qc.Hadamard()\n",
    "    CNOT = qc.CNOT()\n",
    "\n",
    "    phi = qc.bitstring(x, y)\n",
    "    phi = H(phi, qubit_indices=[0])\n",
    "\n",
    "    return CNOT(phi)"
   ]
  },
  {
   "attachments": {},
   "cell_type": "markdown",
   "metadata": {},
   "source": [
    "You can see bellow that we will obtain the desired results for all computational basis posibilities:"
   ]
  },
  {
   "cell_type": "code",
   "execution_count": 20,
   "metadata": {},
   "outputs": [
    {
     "name": "stdout",
     "output_type": "stream",
     "text": [
      "2-qubit state. Tensor:\n",
      "[[0.70710678+0.j 0.        +0.j]\n",
      " [0.        +0.j 0.70710678+0.j]]\n",
      "\n",
      "2-qubit state. Tensor:\n",
      "[[0.        +0.j 0.70710678+0.j]\n",
      " [0.70710678+0.j 0.        +0.j]]\n",
      "\n",
      "2-qubit state. Tensor:\n",
      "[[ 0.70710678+0.j  0.        +0.j]\n",
      " [ 0.        +0.j -0.70710678+0.j]]\n",
      "\n",
      "2-qubit state. Tensor:\n",
      "[[ 0.        +0.j  0.70710678+0.j]\n",
      " [-0.70710678+0.j  0.        +0.j]]\n",
      "\n"
     ]
    }
   ],
   "source": [
    "for [x, y] in [[0, 0], [0, 1], [1, 0], [1, 1]]:\n",
    "    print(bell_state(x, y), end = \"\\n\\n\")"
   ]
  },
  {
   "attachments": {},
   "cell_type": "markdown",
   "metadata": {},
   "source": [
    "As we said before, QCircuits is an user-friendly and intuitive library to use, but of course it does not have implemented internally a lot of things. However, the good part of using QCircuits is that you can easily write yourself a gate definition and use it in your code.\n"
   ]
  },
  {
   "attachments": {},
   "cell_type": "markdown",
   "metadata": {},
   "source": [
    "Under the hood, QCircuits make use of a lot of numpy, and that's how it operates with simulations.\n",
    "The code below will show as how we can write the definition of a Fredkin gate, also known as Controlled SWAP gate which does the following operations:"
   ]
  },
  {
   "attachments": {},
   "cell_type": "markdown",
   "metadata": {},
   "source": [
    "CSWAP: $\\vert x, y, z\\rangle$ into $\\vert x, y, z\\rangle$ if x = 0 or\n",
    "                              into $\\vert x, z, y\\rangle$ if x = 1"
   ]
  },
  {
   "attachments": {},
   "cell_type": "markdown",
   "metadata": {},
   "source": [
    "We will realise the the Fredkin gate implementation starting from it's matrix.\n",
    "$$Fredkin = \\begin{bmatrix}1 & 0 & 0 & 0 & 0 & 0 & 0 & 0\\\\ 0 & 1 & 0 & 0 & 0 & 0 & 0 & 0\\\\ 0 & 0 & 1 & 0 & 0 & 0 & 0 & 0 \\\\ 0 & 0 & 0 & 1 & 0 & 0 & 0 & 0 \\\\ 0 & 0 & 0 & 0 & 1 & 0 & 0 & 0 \\\\ 0 & 0 & 0 & 0 & 0 & 0 & 1 & 0 \\\\ 0 & 0 & 0 & 0 & 0 & 1 & 0 & 0 \\\\ 0 & 0 & 0 & 0 & 0 & 0 & 0 & 1\\end{bmatrix}$$"
   ]
  },
  {
   "cell_type": "code",
   "execution_count": 21,
   "metadata": {},
   "outputs": [
    {
     "name": "stdout",
     "output_type": "stream",
     "text": [
      "3-qubit state. Tensor:\n",
      "[[[0.+0.j 0.+0.j]\n",
      "  [0.+0.j 0.+0.j]]\n",
      "\n",
      " [[0.+0.j 0.+0.j]\n",
      "  [1.+0.j 0.+0.j]]]\n",
      "Operator for 3-qubit state space. Tensor:\n",
      "[[[[[[1.+0.j 0.+0.j]\n",
      "     [0.+0.j 1.+0.j]]\n",
      "\n",
      "    [[0.+0.j 0.+0.j]\n",
      "     [0.+0.j 0.+0.j]]]\n",
      "\n",
      "\n",
      "   [[[0.+0.j 0.+0.j]\n",
      "     [0.+0.j 0.+0.j]]\n",
      "\n",
      "    [[1.+0.j 0.+0.j]\n",
      "     [0.+0.j 1.+0.j]]]]\n",
      "\n",
      "\n",
      "\n",
      "  [[[[0.+0.j 0.+0.j]\n",
      "     [0.+0.j 0.+0.j]]\n",
      "\n",
      "    [[0.+0.j 0.+0.j]\n",
      "     [0.+0.j 0.+0.j]]]\n",
      "\n",
      "\n",
      "   [[[0.+0.j 0.+0.j]\n",
      "     [0.+0.j 0.+0.j]]\n",
      "\n",
      "    [[0.+0.j 0.+0.j]\n",
      "     [0.+0.j 0.+0.j]]]]]\n",
      "\n",
      "\n",
      "\n",
      "\n",
      " [[[[[0.+0.j 0.+0.j]\n",
      "     [0.+0.j 0.+0.j]]\n",
      "\n",
      "    [[0.+0.j 0.+0.j]\n",
      "     [0.+0.j 0.+0.j]]]\n",
      "\n",
      "\n",
      "   [[[0.+0.j 0.+0.j]\n",
      "     [0.+0.j 0.+0.j]]\n",
      "\n",
      "    [[0.+0.j 0.+0.j]\n",
      "     [0.+0.j 0.+0.j]]]]\n",
      "\n",
      "\n",
      "\n",
      "  [[[[1.+0.j 0.+0.j]\n",
      "     [0.+0.j 0.+0.j]]\n",
      "\n",
      "    [[0.+0.j 0.+0.j]\n",
      "     [1.+0.j 0.+0.j]]]\n",
      "\n",
      "\n",
      "   [[[0.+0.j 1.+0.j]\n",
      "     [0.+0.j 0.+0.j]]\n",
      "\n",
      "    [[0.+0.j 0.+0.j]\n",
      "     [0.+0.j 1.+0.j]]]]]]\n"
     ]
    }
   ],
   "source": [
    "def Fredkin():\n",
    "    return qc.ControlledU(qc.Swap())\n",
    "\n",
    "\n",
    "q_aux = qc.bitstring([1], [1], [0])\n",
    "print(q_aux)\n",
    "q_ = Fredkin()\n",
    "print(q_)"
   ]
  },
  {
   "attachments": {},
   "cell_type": "markdown",
   "metadata": {},
   "source": [
    "### Excercise\n",
    "Until 2016, when researchers from Griffith University and University of Queensland(Australia) found a way to implement a Fredkin gate using quantum entanglement of particles of light to swap qubits, this gate was usually realised using some Toffoli gates (CCNOTs)."
   ]
  },
  {
   "attachments": {},
   "cell_type": "markdown",
   "metadata": {},
   "source": [
    "Try to implement a Fredkin gate only with Toffoli gates (how many should we use?) and write an operator in QCircuits."
   ]
  },
  {
   "attachments": {},
   "cell_type": "markdown",
   "metadata": {},
   "source": [
    "### Solution"
   ]
  },
  {
   "attachments": {},
   "cell_type": "markdown",
   "metadata": {},
   "source": [
    "The answer to the first part of the question is that you have to use 3 Toffoli gates, as it follows:      \n",
    "![Fredkin using Toffoli](./photos_basics/Fredkin%20using%20Toffoli.png)"
   ]
  }
 ],
 "metadata": {
  "kernelspec": {
   "display_name": "Python 3 (ipykernel)",
   "language": "python",
   "name": "python3"
  },
  "language_info": {
   "codemirror_mode": {
    "name": "ipython",
    "version": 3
   },
   "file_extension": ".py",
   "mimetype": "text/x-python",
   "name": "python",
   "nbconvert_exporter": "python",
   "pygments_lexer": "ipython3",
   "version": "3.11.3"
  }
 },
 "nbformat": 4,
 "nbformat_minor": 2
}
